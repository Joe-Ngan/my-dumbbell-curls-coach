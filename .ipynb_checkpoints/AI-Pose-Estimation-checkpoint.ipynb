{
 "cells": [
  {
   "cell_type": "markdown",
   "id": "970e14a2",
   "metadata": {},
   "source": [
    "# 0. Install and Import Dependencies"
   ]
  },
  {
   "cell_type": "code",
   "execution_count": 1,
   "id": "3580fe5d",
   "metadata": {},
   "outputs": [
    {
     "name": "stdout",
     "output_type": "stream",
     "text": [
      "Requirement already satisfied: mediapipe in /Users/jinzhouyan/opt/anaconda3/lib/python3.9/site-packages (0.8.10)\n",
      "Requirement already satisfied: opencv-python in /Users/jinzhouyan/opt/anaconda3/lib/python3.9/site-packages (4.5.5.64)\n",
      "Requirement already satisfied: opencv-contrib-python in /Users/jinzhouyan/opt/anaconda3/lib/python3.9/site-packages (from mediapipe) (4.5.5.64)\n",
      "Requirement already satisfied: absl-py in /Users/jinzhouyan/opt/anaconda3/lib/python3.9/site-packages (from mediapipe) (1.0.0)\n",
      "Requirement already satisfied: numpy in /Users/jinzhouyan/opt/anaconda3/lib/python3.9/site-packages (from mediapipe) (1.20.3)\n",
      "Requirement already satisfied: attrs>=19.1.0 in /Users/jinzhouyan/opt/anaconda3/lib/python3.9/site-packages (from mediapipe) (21.2.0)\n",
      "Requirement already satisfied: matplotlib in /Users/jinzhouyan/opt/anaconda3/lib/python3.9/site-packages (from mediapipe) (3.4.3)\n",
      "Requirement already satisfied: protobuf>=3.11.4 in /Users/jinzhouyan/opt/anaconda3/lib/python3.9/site-packages (from mediapipe) (3.20.1)\n",
      "Requirement already satisfied: six in /Users/jinzhouyan/opt/anaconda3/lib/python3.9/site-packages (from absl-py->mediapipe) (1.16.0)\n",
      "Requirement already satisfied: pyparsing>=2.2.1 in /Users/jinzhouyan/opt/anaconda3/lib/python3.9/site-packages (from matplotlib->mediapipe) (3.0.4)\n",
      "Requirement already satisfied: kiwisolver>=1.0.1 in /Users/jinzhouyan/opt/anaconda3/lib/python3.9/site-packages (from matplotlib->mediapipe) (1.3.1)\n",
      "Requirement already satisfied: python-dateutil>=2.7 in /Users/jinzhouyan/opt/anaconda3/lib/python3.9/site-packages (from matplotlib->mediapipe) (2.8.2)\n",
      "Requirement already satisfied: pillow>=6.2.0 in /Users/jinzhouyan/opt/anaconda3/lib/python3.9/site-packages (from matplotlib->mediapipe) (8.4.0)\n",
      "Requirement already satisfied: cycler>=0.10 in /Users/jinzhouyan/opt/anaconda3/lib/python3.9/site-packages (from matplotlib->mediapipe) (0.10.0)\n"
     ]
    }
   ],
   "source": [
    "!pip install mediapipe opencv-python"
   ]
  },
  {
   "cell_type": "code",
   "execution_count": 2,
   "id": "eadfa731",
   "metadata": {},
   "outputs": [],
   "source": [
    "import cv2\n",
    "import mediapipe as mp\n",
    "import numpy as np\n",
    "mp_drawing = mp.solutions.drawing_utils #visualizing utilities\n",
    "mp_pose = mp.solutions.pose #https://google.github.io/mediapipe/solutions/solutions.html"
   ]
  },
  {
   "cell_type": "markdown",
   "id": "c344f778",
   "metadata": {},
   "source": [
    "# 1. Make Detections"
   ]
  },
  {
   "cell_type": "markdown",
   "id": "dce39d66",
   "metadata": {},
   "source": [
    "# 2. Determining Joints"
   ]
  },
  {
   "cell_type": "markdown",
   "id": "8c81862b",
   "metadata": {},
   "source": [
    "<img src=\"https://i.imgur.com/0t2e6zy.png\" style=\"height:300px\">"
   ]
  },
  {
   "cell_type": "markdown",
   "id": "876b98da",
   "metadata": {},
   "source": [
    "# 3. Calculate Angles"
   ]
  },
  {
   "cell_type": "code",
   "execution_count": 3,
   "id": "dfadac6d",
   "metadata": {},
   "outputs": [],
   "source": [
    "def calc_angle(a,b,c):\n",
    "    a = np.array(a) #11\n",
    "    b = np.array(b) #13\n",
    "    c = np.array(c) #15\n",
    "    \n",
    "    radians = np.arctan2(c[1]-b[1], c[0]-b[0]) - np.arctan2(a[1]-b[1], a[0]-b[0])\n",
    "    angle = np.abs(radians*180.0/np.pi)\n",
    "    \n",
    "    if angle > 180.0:\n",
    "        angle = 360 - angle\n",
    "    return angle"
   ]
  },
  {
   "cell_type": "code",
   "execution_count": 4,
   "id": "68fcbc3e",
   "metadata": {},
   "outputs": [],
   "source": [
    "def visualizeText(image, angle, position):\n",
    "    green = (124, 252, 0)\n",
    "    red = (0,0,255)\n",
    "    yellow = (0,255,255)\n",
    "    \n",
    "    if angle < 20.0 or angle > 170.0:\n",
    "        cv2.putText(image, str(\"{:.2f}\".format(angle)), \n",
    "                            tuple(np.multiply(position, [1280, 720]).astype(int)),\n",
    "                            cv2.FONT_HERSHEY_SIMPLEX, 0.5, red, 2, cv2.LINE_AA\n",
    "                       )\n",
    "    elif angle >= 20.0 and angle <= 30.0:\n",
    "        cv2.putText(image, str(\"{:.2f}\".format(angle)), \n",
    "                            tuple(np.multiply(position, [1280, 720]).astype(int)),\n",
    "                            cv2.FONT_HERSHEY_SIMPLEX, 0.5, yellow, 2, cv2.LINE_AA\n",
    "                       )\n",
    "    elif angle >= 160.0 and angle <= 170.0:\n",
    "        cv2.putText(image, str(\"{:.2f}\".format(angle)), \n",
    "                            tuple(np.multiply(position, [1280, 720]).astype(int)),\n",
    "                            cv2.FONT_HERSHEY_SIMPLEX, 0.5, yellow, 2, cv2.LINE_AA\n",
    "                       )\n",
    "    else:\n",
    "        cv2.putText(image, str(\"{:.2f}\".format(angle)), \n",
    "                            tuple(np.multiply(position, [1280, 720]).astype(int)),\n",
    "                            cv2.FONT_HERSHEY_SIMPLEX, 0.5, green, 2, cv2.LINE_AA\n",
    "                       )"
   ]
  },
  {
   "cell_type": "markdown",
   "id": "673b5a2c",
   "metadata": {},
   "source": [
    "# 4. Curl Counter"
   ]
  },
  {
   "cell_type": "code",
   "execution_count": 5,
   "id": "1e53d387",
   "metadata": {},
   "outputs": [
    {
     "name": "stderr",
     "output_type": "stream",
     "text": [
      "INFO: Created TensorFlow Lite XNNPACK delegate for CPU.\n"
     ]
    }
   ],
   "source": [
    "cap = cv2.VideoCapture(0) #accessing the web cam: (zero of the video capture is the index of web cam)\n",
    "\n",
    "#curl counter\n",
    "counterLeft = 0\n",
    "counterRight = 0\n",
    "stageLeft = None\n",
    "stageRight = None\n",
    "\n",
    "#SETUP MEDIAPIPE INSTANCE\n",
    "with mp_pose.Pose(min_detection_confidence=0.5, min_tracking_confidence=0.5) as pose:\n",
    "    while cap.isOpened(): # loop\n",
    "        ret, frame = cap.read()# video capture result\n",
    "        \n",
    "        #recolor bgr to rgb\n",
    "        image = cv2.cvtColor(frame, cv2.COLOR_BGR2RGB)\n",
    "        image.flags.writeable = False\n",
    "        #detection\n",
    "        results = pose.process(image)\n",
    "        #recolor rgb to bgr\n",
    "        image.flags.writeable = True\n",
    "        \n",
    "        image = cv2.cvtColor(image, cv2.COLOR_RGB2BGR)\n",
    "        \n",
    "        #extract the landmarks\n",
    "        try:\n",
    "            landmarks = results.pose_landmarks.landmark\n",
    "            \n",
    "            left_shoulder = [landmarks[mp_pose.PoseLandmark.LEFT_SHOULDER.value].x, landmarks[mp_pose.PoseLandmark.LEFT_SHOULDER.value].y]\n",
    "            left_elbow = [landmarks[mp_pose.PoseLandmark.LEFT_ELBOW.value].x, landmarks[mp_pose.PoseLandmark.LEFT_ELBOW.value].y]\n",
    "            left_wrist = [landmarks[mp_pose.PoseLandmark.LEFT_WRIST.value].x, landmarks[mp_pose.PoseLandmark.LEFT_WRIST.value].y]\n",
    "\n",
    "            right_shoulder = [landmarks[mp_pose.PoseLandmark.RIGHT_SHOULDER.value].x, landmarks[mp_pose.PoseLandmark.RIGHT_SHOULDER.value].y]\n",
    "            right_elbow = [landmarks[mp_pose.PoseLandmark.RIGHT_ELBOW.value].x, landmarks[mp_pose.PoseLandmark.RIGHT_ELBOW.value].y]\n",
    "            right_wrist = [landmarks[mp_pose.PoseLandmark.RIGHT_WRIST.value].x, landmarks[mp_pose.PoseLandmark.RIGHT_WRIST.value].y]\n",
    "            \n",
    "            #calc the angle\n",
    "            left_angle = calc_angle(left_shoulder, left_elbow, left_wrist)\n",
    "            right_angle = calc_angle(right_shoulder, right_elbow, right_wrist)\n",
    "           \n",
    "            #visualize the text\n",
    "            visualizeText(image, left_angle, left_elbow)\n",
    "            visualizeText(image, right_angle, right_elbow)\n",
    "            \n",
    "            # update the stage\n",
    "            if left_angle > 160:\n",
    "                stageLeft =\"down\"\n",
    "            if left_angle < 70 and stageLeft =='down':\n",
    "                stageLeft =\"up\"\n",
    "                counterLeft += 1\n",
    "                \n",
    "            if right_angle > 160:\n",
    "                stageRight =\"down\"\n",
    "            if right_angle < 70 and stageRight =='down':\n",
    "                stageRight =\"up\"\n",
    "                counterRight += 1\n",
    "        except:\n",
    "            pass\n",
    "        \n",
    "        #setup status box\n",
    "        windowWidth=frame.shape[1]\n",
    "        windowHeight=frame.shape[0]\n",
    "        \n",
    "        #background dashboard\n",
    "        cv2.rectangle(image, (0,0),(windowWidth,int(windowHeight/10)),(242, 242, 242), -1)\n",
    "        \n",
    "        \n",
    "        #show the text: left\n",
    "        cv2.putText(image, 'COUNTS(right):', (15,45), cv2.FONT_HERSHEY_SIMPLEX, 0.5, (0,0,0), 1, cv2.LINE_AA)\n",
    "        cv2.putText(image, str(counterRight), (130,50), cv2.FONT_HERSHEY_SIMPLEX, 1.6, (74, 163, 208), 1, cv2.LINE_AA)\n",
    "        cv2.putText(image, 'STAGE:', (200,45), cv2.FONT_HERSHEY_SIMPLEX, 0.5, (0,0,0), 1, cv2.LINE_AA)\n",
    "        cv2.putText(image, stageRight, (260,48), cv2.FONT_HERSHEY_SIMPLEX, 1.2, (74, 163, 208), 1, cv2.LINE_AA)\n",
    "        \n",
    "        #show the text: right\n",
    "        cv2.putText(image, 'COUNTS(left):', (int(windowWidth/2+275+15),45), cv2.FONT_HERSHEY_SIMPLEX, 0.5, (0,0,0), 1, cv2.LINE_AA)\n",
    "        cv2.putText(image, str(counterLeft), (int(windowWidth/2+275+130),50), cv2.FONT_HERSHEY_SIMPLEX, 1.6, (74, 163, 208), 1, cv2.LINE_AA)\n",
    "        \n",
    "        cv2.putText(image, 'STAGE', (int(windowWidth/2+275+200),45), cv2.FONT_HERSHEY_SIMPLEX, 0.5, (0,0,0), 1, cv2.LINE_AA)\n",
    "        cv2.putText(image, stageLeft, (int(windowWidth/2+275+260),48), cv2.FONT_HERSHEY_SIMPLEX, 1.2, (74, 163, 208), 1, cv2.LINE_AA)\n",
    "      \n",
    "        #rendering detections (pts and connections)\n",
    "        mp_drawing.draw_landmarks(image, results.pose_landmarks, mp_pose.POSE_CONNECTIONS,\n",
    "                                 mp_drawing.DrawingSpec(color=(74, 163, 208),thickness=2, circle_radius=2),\n",
    "                                 mp_drawing.DrawingSpec(color=(74, 163, 208),thickness=2, circle_radius=2)\n",
    "                                 )#image, pts, lines\n",
    "        \n",
    "        #imshow visualize the result(frame) as a popup window named 'mediapipe feed'\n",
    "        cv2.imshow('Dumbbell Curls Coach', image)\n",
    "\n",
    "        if cv2.waitKey(10) & 0xFf == ord('q'): #terminate video capture (hitting key Q)\n",
    "            break\n",
    "\n",
    "\n",
    "cv2.destroyWindow('Dumbbell Curls Coach')\n",
    "cv2.waitKey(1)\n",
    "\n",
    "cap.release() # releasing the web cam"
   ]
  },
  {
   "cell_type": "code",
   "execution_count": null,
   "id": "01776c86",
   "metadata": {},
   "outputs": [],
   "source": []
  }
 ],
 "metadata": {
  "kernelspec": {
   "display_name": "Python 3 (ipykernel)",
   "language": "python",
   "name": "python3"
  },
  "language_info": {
   "codemirror_mode": {
    "name": "ipython",
    "version": 3
   },
   "file_extension": ".py",
   "mimetype": "text/x-python",
   "name": "python",
   "nbconvert_exporter": "python",
   "pygments_lexer": "ipython3",
   "version": "3.9.7"
  }
 },
 "nbformat": 4,
 "nbformat_minor": 5
}
